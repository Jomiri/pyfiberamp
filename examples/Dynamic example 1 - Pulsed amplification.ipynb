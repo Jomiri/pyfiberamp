{
 "cells": [
  {
   "cell_type": "markdown",
   "metadata": {},
   "source": [
    "#  Example 1 - Amplification of microsecond pulses"
   ]
  },
  {
   "cell_type": "markdown",
   "metadata": {},
   "source": [
    "In this example, we set up and run a simple time-dynamic simulation, in which we amplify microsecond pulses in a core-pumped Yb-doped fiber. This example resembles a quasi-CW laser but is probably not relevant to any real application. Most importantly, using long and weak pulses allows getting nice-looking plots without scaling. All units are in SI."
   ]
  },
  {
   "cell_type": "markdown",
   "metadata": {},
   "source": [
    "### 0) Required imports"
   ]
  },
  {
   "cell_type": "code",
   "execution_count": 1,
   "metadata": {},
   "outputs": [],
   "source": [
    "import numpy as np\n",
    "from scipy.signal import square  # For square pulse train generation\n",
    "\n",
    "%matplotlib inline\n",
    "import matplotlib.pyplot as plt\n",
    "\n",
    "from pyfiberamp.dynamic import DynamicSimulation\n",
    "from pyfiberamp.fibers import YbDopedFiber\n",
    "from pyfiberamp.helper_funcs import dynamic_time_coordinates"
   ]
  },
  {
   "cell_type": "code",
   "execution_count": 2,
   "metadata": {},
   "outputs": [],
   "source": [
    "plt.rcParams[\"figure.figsize\"] = (12,10)"
   ]
  },
  {
   "cell_type": "markdown",
   "metadata": {},
   "source": [
    "### 1) Creating the fiber (1 m long, 6 um, core-pumped)"
   ]
  },
  {
   "cell_type": "code",
   "execution_count": 3,
   "metadata": {},
   "outputs": [],
   "source": [
    "length = 1\n",
    "core_radius = 3e-6\n",
    "core_na = 0.12\n",
    "yb_number_density = 1e25\n",
    "background_loss = 0\n",
    "\n",
    "yb_fiber = YbDopedFiber(length=length,\n",
    "                        core_radius=core_radius,\n",
    "                        core_na=core_na,\n",
    "                        ion_number_density=yb_number_density,\n",
    "                        background_loss=background_loss)"
   ]
  },
  {
   "cell_type": "markdown",
   "metadata": {},
   "source": [
    "### 2) Setting the other simulation parameters"
   ]
  },
  {
   "cell_type": "code",
   "execution_count": 4,
   "metadata": {},
   "outputs": [],
   "source": [
    "spatial_nodes = 50\n",
    "time_steps = 5000000\n",
    "pump_wavelength = 976e-9\n",
    "signal_wavelength = 1030e-9\n",
    "pump_power = 0.2"
   ]
  },
  {
   "cell_type": "markdown",
   "metadata": {},
   "source": [
    "### 3) Generation of the input signal waveform (10 kHz, 20 us pulses with 100 mW peak power)\n",
    "Note: Nanosecond pulses and higher repetition rates would work equally well, but the plotting would need more work."
   ]
  },
  {
   "cell_type": "code",
   "execution_count": 5,
   "metadata": {},
   "outputs": [
    {
     "data": {
      "image/png": "[encoded data removed]",
      "text/plain": [
       "<matplotlib.figure.Figure at 0x23601fb1080>"
      ]
     },
     "metadata": {},
     "output_type": "display_data"
    }
   ],
   "source": [
    "rep_rate = 1e4\n",
    "duration = 20e-6\n",
    "peak_power = 0.1\n",
    "t = dynamic_time_coordinates(time_steps, spatial_nodes, yb_fiber.length)\n",
    "signal_in = peak_power * (square(2 * np.pi * t * rep_rate, duty=duration*rep_rate) + 1) / 2\n",
    "plt.plot(t*1e6, signal_in)\n",
    "plt.xlabel('Time (microseconds)')\n",
    "plt.ylabel('Power (W)')\n",
    "plt.show()"
   ]
  },
  {
   "cell_type": "markdown",
   "metadata": {},
   "source": [
    "### 4) Setting up and executing the simulation\n",
    "This might take some time depending on the computer's CPU."
   ]
  },
  {
   "cell_type": "code",
   "execution_count": 6,
   "metadata": {},
   "outputs": [],
   "source": [
    "simulation = DynamicSimulation(max_time_steps=time_steps, fiber=yb_fiber)\n",
    "simulation.add_backward_pump(wl=pump_wavelength, input_power=pump_power)\n",
    "simulation.add_forward_signal(wl=signal_wavelength, input_power=signal_in)\n",
    "res = simulation.run(spatial_nodes)"
   ]
  },
  {
   "cell_type": "markdown",
   "metadata": {},
   "source": [
    "### 5) Plotting and interpretation of the results"
   ]
  },
  {
   "cell_type": "code",
   "execution_count": 7,
   "metadata": {},
   "outputs": [
    {
     "ename": "AttributeError",
     "evalue": "'DynamicSimulationResult' object has no attribute 'plotting_transformation'",
     "output_type": "error",
     "traceback": [
      "\u001b[1;31m---------------------------------------------------------------------------\u001b[0m",
      "\u001b[1;31mAttributeError\u001b[0m                            Traceback (most recent call last)",
      "\u001b[1;32m<ipython-input-7-433df8a96e6b>\u001b[0m in \u001b[0;36m<module>\u001b[1;34m()\u001b[0m\n\u001b[1;32m----> 1\u001b[1;33m \u001b[0mres\u001b[0m\u001b[1;33m.\u001b[0m\u001b[0mplot_outputs\u001b[0m\u001b[1;33m(\u001b[0m\u001b[1;33m)\u001b[0m\u001b[1;33m\u001b[0m\u001b[0m\n\u001b[0m",
      "\u001b[1;32mc:\\users\\joona\\onedrive\\softa\\fiber_amplifier\\pyfiberamp\\pyfiberamp\\dynamic\\dynamic_simulation_result.py\u001b[0m in \u001b[0;36mplot_outputs\u001b[1;34m(self, labels, plot_density)\u001b[0m\n\u001b[0;32m     16\u001b[0m             \u001b[1;32mif\u001b[0m \u001b[0mlabels\u001b[0m \u001b[1;32mis\u001b[0m \u001b[1;32mnot\u001b[0m \u001b[1;32mNone\u001b[0m \u001b[1;32mand\u001b[0m \u001b[0mch\u001b[0m\u001b[1;33m.\u001b[0m\u001b[0mlabel\u001b[0m \u001b[1;32mnot\u001b[0m \u001b[1;32min\u001b[0m \u001b[0mlabels\u001b[0m\u001b[1;33m:\u001b[0m\u001b[1;33m\u001b[0m\u001b[0m\n\u001b[0;32m     17\u001b[0m                 \u001b[1;32mcontinue\u001b[0m\u001b[1;33m\u001b[0m\u001b[0m\n\u001b[1;32m---> 18\u001b[1;33m             \u001b[0mself\u001b[0m\u001b[1;33m.\u001b[0m\u001b[0mplot_single_output\u001b[0m\u001b[1;33m(\u001b[0m\u001b[0max\u001b[0m\u001b[1;33m,\u001b[0m \u001b[0mch\u001b[0m\u001b[1;33m,\u001b[0m \u001b[0midx\u001b[0m\u001b[1;33m,\u001b[0m \u001b[0mplot_density\u001b[0m\u001b[1;33m)\u001b[0m\u001b[1;33m\u001b[0m\u001b[0m\n\u001b[0m\u001b[0;32m     19\u001b[0m         \u001b[0mself\u001b[0m\u001b[1;33m.\u001b[0m\u001b[0mfinalize_output_power_plot\u001b[0m\u001b[1;33m(\u001b[0m\u001b[0max\u001b[0m\u001b[1;33m)\u001b[0m \u001b[1;31m# todo: currently wrong unit if output and fiber have different peak powers\u001b[0m\u001b[1;33m\u001b[0m\u001b[0m\n\u001b[0;32m     20\u001b[0m         \u001b[0mself\u001b[0m\u001b[1;33m.\u001b[0m\u001b[0mmake_output_power_legend\u001b[0m\u001b[1;33m(\u001b[0m\u001b[0max\u001b[0m\u001b[1;33m)\u001b[0m\u001b[1;33m\u001b[0m\u001b[0m\n",
      "\u001b[1;32mc:\\users\\joona\\onedrive\\softa\\fiber_amplifier\\pyfiberamp\\pyfiberamp\\dynamic\\dynamic_simulation_result.py\u001b[0m in \u001b[0;36mplot_single_output\u001b[1;34m(self, ax, ch, idx, plot_density)\u001b[0m\n\u001b[0;32m     23\u001b[0m     \u001b[1;32mdef\u001b[0m \u001b[0mplot_single_output\u001b[0m\u001b[1;33m(\u001b[0m\u001b[0mself\u001b[0m\u001b[1;33m,\u001b[0m \u001b[0max\u001b[0m\u001b[1;33m,\u001b[0m \u001b[0mch\u001b[0m\u001b[1;33m,\u001b[0m \u001b[0midx\u001b[0m\u001b[1;33m,\u001b[0m \u001b[0mplot_density\u001b[0m\u001b[1;33m)\u001b[0m\u001b[1;33m:\u001b[0m\u001b[1;33m\u001b[0m\u001b[0m\n\u001b[0;32m     24\u001b[0m         \u001b[0moutput\u001b[0m \u001b[1;33m=\u001b[0m \u001b[0mself\u001b[0m\u001b[1;33m.\u001b[0m\u001b[0moutput_powers\u001b[0m\u001b[1;33m[\u001b[0m\u001b[0midx\u001b[0m\u001b[1;33m,\u001b[0m \u001b[1;33m:\u001b[0m\u001b[1;33m]\u001b[0m\u001b[1;33m\u001b[0m\u001b[0m\n\u001b[1;32m---> 25\u001b[1;33m         ax.plot(self.t_us[::plot_density], self.plotting_transformation(output)[::plot_density],\n\u001b[0m\u001b[0;32m     26\u001b[0m                 label=self.make_output_legend_entry(ch))\n\u001b[0;32m     27\u001b[0m \u001b[1;33m\u001b[0m\u001b[0m\n",
      "\u001b[1;31mAttributeError\u001b[0m: 'DynamicSimulationResult' object has no attribute 'plotting_transformation'"
     ]
    },
    {
     "data": {
      "image/png": "[encoded data removed]",
      "text/plain": [
       "<matplotlib.figure.Figure at 0x23601f0e780>"
      ]
     },
     "metadata": {},
     "output_type": "display_data"
    }
   ],
   "source": [
    "res.plot_outputs()"
   ]
  },
  {
   "cell_type": "markdown",
   "metadata": {},
   "source": [
    "This figure shows the output powers of the signal and pump beams. They are both switched on at the same time. \n",
    "\n",
    "\n",
    "When the first pulse propagates through the fiber at the start, the fiber is not yet inverted and, in fact, absorbs at the signal wavelength. The absorption is strongest at the leading edge of the pulse but saturates within the pulse duration and the fiber becomes transparent to the signal by the time the trailing edge propagates through the amplifier. No unabsorbed pump comes through the fiber at this point.\n",
    "\n",
    "\n",
    "The second pulse is already amplified to about 3.5 times the original pulse energy and also preserves its shape surprisingly well. The gain is roughly constant during the pulse.\n",
    "\n",
    "From the third pulse onwards, the amplifier seems to settle into a steady operation. The output pulse shape is distorted because the leading edge collects a large part of the stored energy and starts to saturate the gain. The gain recovers during the pulse-off time. Right before the pulse emission, most of the pump power is also transmitted through the amplifier strongly hinting that this simple experiment has room for optimization. The part of the pump power that is not transmitted is required to maintain inversion against losses to spontaneous emission. \n",
    "\n",
    "You may wonder if amplified spontaneous emission (ASE) might deplete the inversion between the pulses. I don't expect it to because of the low doping concentration and the short fiber. However, the main reason for not including ASE in the simulation is that I wanted to keep this example as simple as possible. ASE channels could easily be added with just one line of code."
   ]
  },
  {
   "cell_type": "markdown",
   "metadata": {},
   "source": [
    "If you have want to ask a question of send feedback about this example, please open a new issue on GitHub or contact me at <pyfiberamp@gmail.com>."
   ]
  }
 ],
 "metadata": {
  "kernelspec": {
   "display_name": "Python 3",
   "language": "python",
   "name": "python3"
  },
  "language_info": {
   "codemirror_mode": {
    "name": "ipython",
    "version": 3
   },
   "file_extension": ".py",
   "mimetype": "text/x-python",
   "name": "python",
   "nbconvert_exporter": "python",
   "pygments_lexer": "ipython3",
   "version": "3.6.4"
  }
 },
 "nbformat": 4,
 "nbformat_minor": 2
}
